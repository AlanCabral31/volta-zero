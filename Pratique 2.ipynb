{
 "cells": [
  {
   "cell_type": "markdown",
   "metadata": {
    "id": "njUvbhQmC8-t"
   },
   "source": [
    "## Exercício 1: Vestibular\n",
    "\n",
    "Considere que a os dados gerados na célula abaixo contêm o número de acertos de 100 alunos em um vestibular para um curso de exatas, divididas pelos respectivos assuntos. Considere que cada assunto possui um número de questões conforme a tabela abaixo:\n",
    "\n",
    "| assunto | número de questões |\n",
    "|:---:|:---:|\n",
    "| Matemática | 24 |\n",
    "| Português | 18 |\n",
    "| Geografia | 8 |\n",
    "| Inglês | 8 |\n",
    "| História | 8 |\n",
    "| Física | 12 |\n",
    "| Química | 12 |\n",
    "\n",
    "Usando os comandos de operações com DataFrames que você aprendeu na Aula 03, calcule:\n",
    "\n",
    "1. (operações com escalar) Calcule o percentual de acerto dos alunos por assunto.  \n",
    "2. (operações entre *DataFrames) Calcule o total de acertos de cada aluno.  \n",
    "3. Calcule o porcentual geral de cada aluno.  \n",
    "4. Suponha que a nota de corte para a segunda fase seja 45. Quantos alunos tiveram nota maior que 45?  "
   ]
  },
  {
   "cell_type": "code",
   "execution_count": 45,
   "metadata": {
    "id": "Ll6TadxCC8-y"
   },
   "outputs": [],
   "source": [
    "import pandas as pd\n",
    "import numpy as np\n",
    "\n",
    "np.random.seed(42)\n",
    "df_mat = pd.DataFrame(np.random.randint(24, size=(100, 1)), columns=['Qt_acertos'])\n",
    "\n",
    "df_por = pd.DataFrame(np.random.randint(18, size=(100, 1)), columns=['Qt_acertos'])\n",
    "\n",
    "df_geo = pd.DataFrame(np.random.randint(8, size=(100, 1)), columns=['Qt_acertos'])\n",
    "\n",
    "df_ing = pd.DataFrame(np.random.randint(8, size=(100, 1)), columns=['Qt_acertos'])\n",
    "\n",
    "df_his = pd.DataFrame(np.random.randint(8, size=(100, 1)), columns=['Qt_acertos'])\n",
    "\n",
    "df_fis = pd.DataFrame(np.random.randint(12, size=(100, 1)), columns=['Qt_acertos'])\n",
    "\n",
    "df_qui = pd.DataFrame(np.random.randint(12, size=(100, 1)), columns=['Qt_acertos'])"
   ]
  },
  {
   "cell_type": "code",
   "execution_count": 47,
   "metadata": {
    "id": "JVmLXiC2C8-0"
   },
   "outputs": [],
   "source": [
    "# 1) Seu código aqui\n",
    "df_mat['Pct'] = df_mat['Qt_acertos'] / 24 * 100\n",
    "df_por['Pct'] = df_por['Qt_acertos'] / 18 * 100\n",
    "df_geo['Pct'] = df_geo['Qt_acertos'] / 8 * 100\n",
    "df_ing['Pct'] = df_ing['Qt_acertos'] / 8 * 100\n",
    "df_his['Pct'] = df_his['Qt_acertos'] / 8 * 100\n",
    "df_fis['Pct'] = df_fis['Qt_acertos'] / 12 * 100\n",
    "df_qui['Pct'] = df_qui['Qt_acertos'] / 12 * 100"
   ]
  },
  {
   "cell_type": "code",
   "execution_count": 49,
   "metadata": {
    "id": "JbTwCyNHC8-1"
   },
   "outputs": [],
   "source": [
    "# 2) Seu código aqui\n",
    "df_total = pd.DataFrame({\n",
    "    'Mat': df_mat['Qt_acertos'],\n",
    "    'Por': df_por['Qt_acertos'],\n",
    "    'Geo': df_geo['Qt_acertos'],\n",
    "    'Ing': df_ing['Qt_acertos'],\n",
    "    'His': df_his['Qt_acertos'],\n",
    "    'Fis': df_fis['Qt_acertos'],\n",
    "    'Qui': df_qui['Qt_acertos'],\n",
    "})\n",
    "df_total['Total_acertos'] = df_total.sum(axis=1)"
   ]
  },
  {
   "cell_type": "code",
   "execution_count": 51,
   "metadata": {
    "id": "c2L8dJkVC8-3"
   },
   "outputs": [],
   "source": [
    "# 3) Seu código aqui\n",
    "total_questoes = 24 + 18 + 8 + 8 + 8 + 12 + 12  # 90\n",
    "\n",
    "df_total['Pct_geral'] = df_total['Total_acertos'] / total_questoes * 100"
   ]
  },
  {
   "cell_type": "code",
   "execution_count": 53,
   "metadata": {
    "id": "PZTZ7DFzC8-3"
   },
   "outputs": [
    {
     "name": "stdout",
     "output_type": "stream",
     "text": [
      "Alunos com nota maior que 45: 31\n"
     ]
    }
   ],
   "source": [
    "# 4) Seu código aqui\n",
    "num_aprovados = (df_total['Total_acertos'] > 45).sum()\n",
    "print(f'Alunos com nota maior que 45: {num_aprovados}')"
   ]
  },
  {
   "cell_type": "markdown",
   "metadata": {
    "id": "Hlfl75XXC8-4"
   },
   "source": [
    "## 2) Vestibular II\n",
    "\n",
    "Ainda sobre o mesmo banco de dados:\n",
    "\n",
    "1. Neste vestibular, quem 'zera' em matemática, física ou química está desqualificado. Monte um novo *DataFrame* com os alunos desqualificados por este critério.\n",
    "2. Quantos são esses alunos?\n",
    "3. Qual a média desses alunos em história e geografia?\n",
    "4. Monte um *DataFrame* com os alunos que passaram para a segunda fase. Repare que estes alunos não podem ter sido desqualificados."
   ]
  },
  {
   "cell_type": "code",
   "execution_count": 56,
   "metadata": {
    "id": "hPaMGXvJC8-4"
   },
   "outputs": [
    {
     "name": "stdout",
     "output_type": "stream",
     "text": [
      "Nº de desqualificados: 23\n",
      "Média em História (desqualificados): 3.43\n",
      "Média em Geografia (desqualificados): 3.22\n",
      "Alunos classificados: 26\n"
     ]
    }
   ],
   "source": [
    "# seu código aqui\n",
    "df_total['Desqualificado'] = (df_total['Mat'] == 0) | (df_total['Fis'] == 0) | (df_total['Qui'] == 0)\n",
    "\n",
    "\n",
    "df_desq = df_total[df_total['Desqualificado']]\n",
    "\n",
    "print(f'Nº de desqualificados: {df_desq.shape[0]}')\n",
    "\n",
    "media_his = df_his.loc[df_desq.index, 'Qt_acertos'].mean()\n",
    "media_geo = df_geo.loc[df_desq.index, 'Qt_acertos'].mean()\n",
    "\n",
    "print(f'Média em História (desqualificados): {media_his:.2f}')\n",
    "print(f'Média em Geografia (desqualificados): {media_geo:.2f}')\n",
    "\n",
    "df_classificados = df_total[(df_total['Total_acertos'] > 45) & (~df_total['Desqualificado'])]\n",
    "print(f'Alunos classificados: {df_classificados.shape[0]}')"
   ]
  },
  {
   "cell_type": "markdown",
   "metadata": {
    "id": "EGBUWpAHC8-5"
   },
   "source": [
    "## 3) Vacinações no Acre\n",
    "Vamos trabalhar agora com a base de vacinações no Acre. Para facilitar a sua vida, copiamos o link do arquivo na célula abaixo.\n",
    "\n",
    "1. Quantas vacinas estão registradas nessa base?  \n",
    "2. Quantos pacientes foram vacinados? (considere um paciente para cada valor único de ```paciente_id```)  \n",
    "3. Quantos pacientes únicos tomaram a primeira dose? OBS: Há um caractere especial neste campo. Receba os valores do campo com o método ```.unique()```.   \n",
    "4. Quantos pacientes com menos de 18 anos foram vacinados?  \n",
    "5. Quantos estabelecimentos aplicaram vacina no Acre?\n",
    "\n",
    "\n",
    "**OBS:** O portal do DATASUS pode apresentar instabilidades, retornando um erro na segunda célula abaixo. Por este motivo está disponível uma base estática, que se for baixada para o seu *working directory* pode ser lida com este comando: ```df = pd.read_csv('registros de vacinacao covid ACRE.csv', sep=';')```.\n",
    "\n",
    "**OBS2:** Para saber qual é o seu working directory, rode no jupyter: ```!pwd```."
   ]
  },
  {
   "cell_type": "code",
   "execution_count": 59,
   "metadata": {
    "id": "ET4r139hC8-5"
   },
   "outputs": [],
   "source": [
    "df = pd.read_csv('registro-vacinas.csv', sep=';')"
   ]
  },
  {
   "cell_type": "code",
   "execution_count": 60,
   "metadata": {
    "id": "SC9YMWLSC8-6"
   },
   "outputs": [
    {
     "name": "stdout",
     "output_type": "stream",
     "text": [
      "Vacinas registradas: 169071\n"
     ]
    }
   ],
   "source": [
    "# 1) Sua solução aqui\n",
    "num_registros = df.shape[0]\n",
    "print(f\"Vacinas registradas: {num_registros}\")"
   ]
  },
  {
   "cell_type": "code",
   "execution_count": 61,
   "metadata": {
    "id": "PMztY1RlC8-7"
   },
   "outputs": [
    {
     "name": "stdout",
     "output_type": "stream",
     "text": [
      "Pacientes vacinados (únicos): 120517\n"
     ]
    }
   ],
   "source": [
    "# 2)\n",
    "pacientes_unicos = df['paciente_id'].nunique()\n",
    "print(f\"Pacientes vacinados (únicos): {pacientes_unicos}\")"
   ]
  },
  {
   "cell_type": "code",
   "execution_count": 62,
   "metadata": {
    "id": "V_wr--3JC8-7"
   },
   "outputs": [
    {
     "name": "stdout",
     "output_type": "stream",
     "text": [
      "Pacientes que tomaram a 1ª dose: 119713\n"
     ]
    }
   ],
   "source": [
    "# 3)\n",
    "df['vacina_descricao_dose_limpa'] = df['vacina_descricao_dose'].str.replace('\\xa0', ' ', regex=False).str.strip()\n",
    "\n",
    "primeira_dose = df[df['vacina_descricao_dose_limpa'] == '1ª Dose']\n",
    "pacientes_primeira_dose = primeira_dose['paciente_id'].nunique()\n",
    "print(f\"Pacientes que tomaram a 1ª dose: {pacientes_primeira_dose}\")"
   ]
  },
  {
   "cell_type": "code",
   "execution_count": 63,
   "metadata": {
    "id": "SPHgIxtcC8-7"
   },
   "outputs": [
    {
     "name": "stdout",
     "output_type": "stream",
     "text": [
      "[Alternativa] Pacientes que tomaram 1ª dose: 119713\n"
     ]
    }
   ],
   "source": [
    "# 3) solução alternativa\n",
    "primeira_dose_alt = df[df['vacina_descricao_dose'].str.contains('1', na=False)]\n",
    "pacientes_primeira_dose_alt = primeira_dose_alt['paciente_id'].nunique()\n",
    "print(f\"[Alternativa] Pacientes que tomaram 1ª dose: {pacientes_primeira_dose_alt}\")"
   ]
  },
  {
   "cell_type": "code",
   "execution_count": 68,
   "metadata": {
    "id": "S6ab9ExEC8-7"
   },
   "outputs": [
    {
     "name": "stdout",
     "output_type": "stream",
     "text": [
      "Pacientes com menos de 18 anos: 47\n"
     ]
    }
   ],
   "source": [
    "# 4)\n",
    "menores_18 = df[df['paciente_idade'] < 18]['paciente_id'].nunique()\n",
    "print(f\"Pacientes com menos de 18 anos: {menores_18}\")"
   ]
  },
  {
   "cell_type": "code",
   "execution_count": 71,
   "metadata": {
    "id": "PVrY_-qlC8-8"
   },
   "outputs": [
    {
     "name": "stdout",
     "output_type": "stream",
     "text": [
      "Nº de estabelecimentos (nome fantasia): 103\n"
     ]
    }
   ],
   "source": [
    "# 5)\n",
    "estabelecimentos_fantasia = df['estalecimento_nofantasia'].nunique()\n",
    "print(f\"Nº de estabelecimentos (nome fantasia): {estabelecimentos_fantasia}\")"
   ]
  },
  {
   "cell_type": "markdown",
   "metadata": {
    "id": "LH1LSYvGC8-8"
   },
   "source": [
    "## 4) Vacinação II\n",
    "Gere um *DataFrame* que contenha somente os estabelecimentos que aplicaram vcinas a menores de 18 anos. Nesse *DataFrame* devem conter somente os dados dos estabelecimentos, mais uma coluna sendo a quantidade de vacinas que o estabelecimento aplicou a menores de 18 anos.  \n",
    "  \n",
    "1. crie uma cópia do *DataFrame* original, contendo somente os registros de vacinas realizadas a menores de 18 anos.  \n",
    "2. crie uma lista das colunas desse *DataFrame* com o atributo de *DataFrame* **.columns()**  \n",
    "3. Nesse *DataFrame* faça uma contagem do campo ```vacina_categoria_nome```.\n",
    "3. a partir da lista de colunas, escolha somente aquelas que são referentes ao estabelecimento, faça uma lista com esses valores.  \n",
    "4. usando o método *.loc*, selecione somente essas variáveis  \n",
    "5. Aplique o método **.drop_duplicates** e crie uma lista com uma linha para cada estabelecimento, com os dados do estabelecimento  "
   ]
  },
  {
   "cell_type": "code",
   "execution_count": 74,
   "metadata": {
    "id": "3ojs12vUC8-8"
   },
   "outputs": [],
   "source": [
    "# 1)\n",
    "df_menores = df[df['paciente_idade'] < 18].copy()"
   ]
  },
  {
   "cell_type": "code",
   "execution_count": 76,
   "metadata": {
    "id": "sLyevPRBC8-8"
   },
   "outputs": [
    {
     "name": "stdout",
     "output_type": "stream",
     "text": [
      "['document_id', 'paciente_id', 'paciente_idade', 'paciente_datanascimento', 'paciente_enumsexobiologico', 'paciente_racacor_codigo', 'paciente_racacor_valor', 'paciente_endereco_coibgemunicipio', 'paciente_endereco_copais', 'paciente_endereco_nmmunicipio', 'paciente_endereco_nmpais', 'paciente_endereco_uf', 'paciente_endereco_cep', 'paciente_nacionalidade_enumnacionalidade', 'estabelecimento_valor', 'estabelecimento_razaosocial', 'estalecimento_nofantasia', 'estabelecimento_municipio_codigo', 'estabelecimento_municipio_nome', 'estabelecimento_uf', 'vacina_grupoatendimento_codigo', 'vacina_grupoatendimento_nome', 'vacina_categoria_codigo', 'vacina_categoria_nome', 'vacina_lote', 'vacina_fabricante_nome', 'vacina_fabricante_referencia', 'vacina_dataaplicacao', 'vacina_descricao_dose', 'vacina_codigo', 'vacina_nome', 'sistema_origem', 'data_importacao_rnds', 'id_sistema_origem', 'vacina_descricao_dose_limpa']\n"
     ]
    }
   ],
   "source": [
    "# 2)\n",
    "lista_colunas = df_menores.columns.tolist()\n",
    "print(lista_colunas)"
   ]
  },
  {
   "cell_type": "code",
   "execution_count": 78,
   "metadata": {
    "id": "lZAW-Dp8C8-8"
   },
   "outputs": [
    {
     "data": {
      "text/plain": [
       "vacina_categoria_nome\n",
       "Povos Indígenas                     33\n",
       "Trabalhadores de Saúde               9\n",
       "Povos e Comunidades Tradicionais     9\n",
       "Comorbidades                         2\n",
       "Faixa Etária                         1\n",
       "Name: count, dtype: int64"
      ]
     },
     "execution_count": 78,
     "metadata": {},
     "output_type": "execute_result"
    }
   ],
   "source": [
    "# 3)\n",
    "df_menores['vacina_categoria_nome'].value_counts()"
   ]
  },
  {
   "cell_type": "code",
   "execution_count": 80,
   "metadata": {
    "id": "xxYsxrxAC8-8"
   },
   "outputs": [
    {
     "name": "stdout",
     "output_type": "stream",
     "text": [
      "['estabelecimento_valor', 'estabelecimento_razaosocial', 'estabelecimento_municipio_codigo', 'estabelecimento_municipio_nome', 'estabelecimento_uf']\n"
     ]
    }
   ],
   "source": [
    "# 4)\n",
    "colunas_estabelecimento = [col for col in lista_colunas if col.startswith('estabelecimento_')]\n",
    "print(colunas_estabelecimento)"
   ]
  },
  {
   "cell_type": "code",
   "execution_count": 82,
   "metadata": {
    "id": "vaX2x_0rC8-8"
   },
   "outputs": [],
   "source": [
    "# 5)\n",
    "df_estabelecimentos_menores = df_menores.loc[:, colunas_estabelecimento]"
   ]
  },
  {
   "cell_type": "code",
   "execution_count": 84,
   "metadata": {},
   "outputs": [],
   "source": [
    "# 6)\n",
    "df_estabelecimentos_unicos = df_estabelecimentos_menores.drop_duplicates()"
   ]
  }
 ],
 "metadata": {
  "colab": {
   "provenance": []
  },
  "kernelspec": {
   "display_name": "Python [conda env:base] *",
   "language": "python",
   "name": "conda-base-py"
  },
  "language_info": {
   "codemirror_mode": {
    "name": "ipython",
    "version": 3
   },
   "file_extension": ".py",
   "mimetype": "text/x-python",
   "name": "python",
   "nbconvert_exporter": "python",
   "pygments_lexer": "ipython3",
   "version": "3.12.7"
  },
  "toc": {
   "base_numbering": 1,
   "nav_menu": {},
   "number_sections": false,
   "sideBar": true,
   "skip_h1_title": true,
   "title_cell": "Índice",
   "title_sidebar": "Conteúdo",
   "toc_cell": false,
   "toc_position": {},
   "toc_section_display": true,
   "toc_window_display": false
  },
  "varInspector": {
   "cols": {
    "lenName": 16,
    "lenType": 16,
    "lenVar": 40
   },
   "kernels_config": {
    "python": {
     "delete_cmd_postfix": "",
     "delete_cmd_prefix": "del ",
     "library": "var_list.py",
     "varRefreshCmd": "print(var_dic_list())"
    },
    "r": {
     "delete_cmd_postfix": ") ",
     "delete_cmd_prefix": "rm(",
     "library": "var_list.r",
     "varRefreshCmd": "cat(var_dic_list()) "
    }
   },
   "types_to_exclude": [
    "module",
    "function",
    "builtin_function_or_method",
    "instance",
    "_Feature"
   ],
   "window_display": false
  }
 },
 "nbformat": 4,
 "nbformat_minor": 4
}
